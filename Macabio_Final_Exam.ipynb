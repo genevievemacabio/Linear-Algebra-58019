{
  "nbformat": 4,
  "nbformat_minor": 0,
  "metadata": {
    "colab": {
      "name": "Macabio_Final Exam.ipynb",
      "provenance": [],
      "authorship_tag": "ABX9TyOSfopx1bZHdNb2eVfZ6l/y",
      "include_colab_link": true
    },
    "kernelspec": {
      "name": "python3",
      "display_name": "Python 3"
    },
    "language_info": {
      "name": "python"
    }
  },
  "cells": [
    {
      "cell_type": "markdown",
      "metadata": {
        "id": "view-in-github",
        "colab_type": "text"
      },
      "source": [
        "<a href=\"https://colab.research.google.com/github/genevievemacabio/Linear-Algebra-58019/blob/main/Macabio_Final_Exam.ipynb\" target=\"_parent\"><img src=\"https://colab.research.google.com/assets/colab-badge.svg\" alt=\"Open In Colab\"/></a>"
      ]
    },
    {
      "cell_type": "markdown",
      "source": [
        "**QUESTION #3 **"
      ],
      "metadata": {
        "id": "ILmmI-lrtb8c"
      }
    },
    {
      "cell_type": "code",
      "source": [
        "from math import e\n",
        "def f(x): return e**x\n",
        "\n",
        "a = -1\n",
        "b = 1\n",
        "n = 10\n",
        "h = (b-a)/n\n",
        "S = h * (f(a)+f(b))\n",
        "for i in range (1,n):\n",
        "  S+=(a+i*h)\n",
        "Integral = h*S\n",
        "print('Integral = %.1f' %Integral)"
      ],
      "metadata": {
        "colab": {
          "base_uri": "https://localhost:8080/"
        },
        "id": "giOOcjns4866",
        "outputId": "f0172536-d092-4f91-901e-1e1d48fbc8c7"
      },
      "execution_count": 18,
      "outputs": [
        {
          "output_type": "stream",
          "name": "stdout",
          "text": [
            "Integral = 0.1\n"
          ]
        }
      ]
    }
  ]
}