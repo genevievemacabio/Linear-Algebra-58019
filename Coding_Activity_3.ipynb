{
  "nbformat": 4,
  "nbformat_minor": 0,
  "metadata": {
    "colab": {
      "name": "Coding Activity 3.ipynb",
      "provenance": [],
      "authorship_tag": "ABX9TyPFU8zJxpcDE6foPgs9AHgu",
      "include_colab_link": true
    },
    "kernelspec": {
      "name": "python3",
      "display_name": "Python 3"
    },
    "language_info": {
      "name": "python"
    }
  },
  "cells": [
    {
      "cell_type": "markdown",
      "metadata": {
        "id": "view-in-github",
        "colab_type": "text"
      },
      "source": [
        "<a href=\"https://colab.research.google.com/github/genevievemacabio/Linear-Algebra-58019/blob/main/Coding_Activity_3.ipynb\" target=\"_parent\"><img src=\"https://colab.research.google.com/assets/colab-badge.svg\" alt=\"Open In Colab\"/></a>"
      ]
    },
    {
      "cell_type": "code",
      "metadata": {
        "colab": {
          "base_uri": "https://localhost:8080/"
        },
        "id": "owd1xaZqQKf9",
        "outputId": "d473b340-549f-4dc2-92f1-5e8b27c1fdfc"
      },
      "source": [
        "import numpy as np\n",
        "A=np.array([[[4,10,8],[10,26,26],[8,26,61]]]) #creation of matrix A\n",
        "print(A)\n",
        "inv_A=np.linalg.inv(A)\n",
        "print(inv_A)"
      ],
      "execution_count": 1,
      "outputs": [
        {
          "output_type": "stream",
          "name": "stdout",
          "text": [
            "[[[ 4 10  8]\n",
            "  [10 26 26]\n",
            "  [ 8 26 61]]]\n",
            "[[[ 25.27777778 -11.16666667   1.44444444]\n",
            "  [-11.16666667   5.          -0.66666667]\n",
            "  [  1.44444444  -0.66666667   0.11111111]]]\n"
          ]
        }
      ]
    },
    {
      "cell_type": "code",
      "metadata": {
        "colab": {
          "base_uri": "https://localhost:8080/"
        },
        "id": "p_FPl6l1Q6KN",
        "outputId": "cfb92ecc-0ad3-4d84-f423-5972bddbf02e"
      },
      "source": [
        "B=np.array([[[44],[128],[214]]])\n",
        "print(B)"
      ],
      "execution_count": 2,
      "outputs": [
        {
          "output_type": "stream",
          "name": "stdout",
          "text": [
            "[[[ 44]\n",
            "  [128]\n",
            "  [214]]]\n"
          ]
        }
      ]
    },
    {
      "cell_type": "code",
      "metadata": {
        "colab": {
          "base_uri": "https://localhost:8080/"
        },
        "id": "hOoYfxoERIAf",
        "outputId": "0a6c6a5b-818c-4e95-e299-81cc7a4444ea"
      },
      "source": [
        "X=np.linalg.inv(A).dot(B)\n",
        "print(X)"
      ],
      "execution_count": 3,
      "outputs": [
        {
          "output_type": "stream",
          "name": "stdout",
          "text": [
            "[[[[-8.]]\n",
            "\n",
            "  [[ 6.]]\n",
            "\n",
            "  [[ 2.]]]]\n"
          ]
        }
      ]
    },
    {
      "cell_type": "code",
      "metadata": {
        "colab": {
          "base_uri": "https://localhost:8080/"
        },
        "id": "xv1lv3n7RJoY",
        "outputId": "43d4f277-97a6-4815-daec-b5f7154ad119"
      },
      "source": [
        "X=np.dot(inv_A,B)\n",
        "print(X)"
      ],
      "execution_count": 4,
      "outputs": [
        {
          "output_type": "stream",
          "name": "stdout",
          "text": [
            "[[[[-8.]]\n",
            "\n",
            "  [[ 6.]]\n",
            "\n",
            "  [[ 2.]]]]\n"
          ]
        }
      ]
    }
  ]
}