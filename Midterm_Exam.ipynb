{
  "nbformat": 4,
  "nbformat_minor": 0,
  "metadata": {
    "colab": {
      "name": "Midterm Exam.ipynb",
      "provenance": [],
      "authorship_tag": "ABX9TyOX5eoew4U6pK5tCgQI9BVb",
      "include_colab_link": true
    },
    "kernelspec": {
      "name": "python3",
      "display_name": "Python 3"
    },
    "language_info": {
      "name": "python"
    }
  },
  "cells": [
    {
      "cell_type": "markdown",
      "metadata": {
        "id": "view-in-github",
        "colab_type": "text"
      },
      "source": [
        "<a href=\"https://colab.research.google.com/github/genevievemacabio/Linear-Algebra-58019/blob/main/Midterm_Exam.ipynb\" target=\"_parent\"><img src=\"https://colab.research.google.com/assets/colab-badge.svg\" alt=\"Open In Colab\"/></a>"
      ]
    },
    {
      "cell_type": "markdown",
      "metadata": {
        "id": "cM-UDI2X7fxZ"
      },
      "source": [
        "Question 1. Create a Python code that displays a square matrix whose length is 5"
      ]
    },
    {
      "cell_type": "code",
      "metadata": {
        "colab": {
          "base_uri": "https://localhost:8080/"
        },
        "id": "FeDMGyNj7h1H",
        "outputId": "3dad418b-fdde-43f9-9684-b878c5b2a7de"
      },
      "source": [
        "import numpy as np #import Library\n",
        "#square matrix has same length and width thus it is 5x5 matrix\n",
        "\n",
        "SquareMatrix = np.array ([[6,0,0,0,6],[7,0,0,0,7],[8,0,0,0,8],[9,0,0,0,9],[4,0,0,0,4]]) #5x5 matrix\n",
        "\n",
        "print(\"SQUARE MATRIX WHOSE LENGTH IS 5:\") \n",
        "print() \n",
        "print(SquareMatrix) #displays the final output\n"
      ],
      "execution_count": 24,
      "outputs": [
        {
          "output_type": "stream",
          "name": "stdout",
          "text": [
            "SQUARE MATRIX WHOSE LENGTH IS 5:\n",
            "\n",
            "[[6 0 0 0 6]\n",
            " [7 0 0 0 7]\n",
            " [8 0 0 0 8]\n",
            " [9 0 0 0 9]\n",
            " [4 0 0 0 4]]\n"
          ]
        }
      ]
    },
    {
      "cell_type": "markdown",
      "metadata": {
        "id": "RDw-fBsq7idG"
      },
      "source": [
        "Question 2. Create a Python code that displays a square matrix whose elements below the principal diagonal are zero"
      ]
    },
    {
      "cell_type": "code",
      "metadata": {
        "colab": {
          "base_uri": "https://localhost:8080/"
        },
        "id": "chQtpxRJ7lBb",
        "outputId": "992ed839-c05e-466a-fac7-0b50b4f343df"
      },
      "source": [
        "A = np.triu([[1,2,3,4,5],[1,2,3,4,5],[1,2,3,4,5],[1,2,3,4,5],[1,2,3,4,5]]) #square matrix\n",
        "print(A) #displays the final output"
      ],
      "execution_count": 21,
      "outputs": [
        {
          "output_type": "stream",
          "name": "stdout",
          "text": [
            "[[1 2 3 4 5]\n",
            " [0 2 3 4 5]\n",
            " [0 0 3 4 5]\n",
            " [0 0 0 4 5]\n",
            " [0 0 0 0 5]]\n"
          ]
        }
      ]
    },
    {
      "cell_type": "markdown",
      "metadata": {
        "id": "FttfA6dm7lay"
      },
      "source": [
        "Question 3. Create a Python code that displays a square matrix which is symmetrical "
      ]
    },
    {
      "cell_type": "code",
      "metadata": {
        "colab": {
          "base_uri": "https://localhost:8080/"
        },
        "id": "xs65q3mI71cT",
        "outputId": "001827eb-6f1d-4e46-86af-85f079936503"
      },
      "source": [
        "C = np.array([[1,2,3,4,5],[2,1,2,3,4],[3,2,1,2,3],[4,3,2,1,2],[5,4,3,2,1]]) #square matrix\n",
        "\n",
        "print(\"SQUARE MATRIX WHICH IS SYMMETRICAL:\")\n",
        "print(C) #displays the final output"
      ],
      "execution_count": 26,
      "outputs": [
        {
          "output_type": "stream",
          "name": "stdout",
          "text": [
            "SQUARE MATRIX WHICH IS SYMMETRICAL:\n",
            "[[1 2 3 4 5]\n",
            " [2 1 2 3 4]\n",
            " [3 2 1 2 3]\n",
            " [4 3 2 1 2]\n",
            " [5 4 3 2 1]]\n"
          ]
        }
      ]
    },
    {
      "cell_type": "markdown",
      "metadata": {
        "id": "gb6__fJB71yq"
      },
      "source": [
        "Question 4. What is the inverse of matrix C? Show your solution by python coding."
      ]
    },
    {
      "cell_type": "code",
      "metadata": {
        "colab": {
          "base_uri": "https://localhost:8080/"
        },
        "id": "nppdosmK730y",
        "outputId": "31f80461-147c-46c8-dc90-56ccd1a3bde2"
      },
      "source": [
        "C = np.array ([[1,2,3],\n",
        "               [2,3,3],\n",
        "               [3,4,-2]]) #Given matrix\n",
        "\n",
        "invC = np.linalg.inv(C) #Compute the (multiplicative) inverse of a matrix\n",
        "\n",
        "print(\"INVERSE OF MATRIX C:\")\n",
        "print(invC) #displays the final output"
      ],
      "execution_count": 12,
      "outputs": [
        {
          "output_type": "stream",
          "name": "stdout",
          "text": [
            "INVERSE OF MATRIX C:\n",
            "[[-3.6  3.2 -0.6]\n",
            " [ 2.6 -2.2  0.6]\n",
            " [-0.2  0.4 -0.2]]\n"
          ]
        }
      ]
    },
    {
      "cell_type": "markdown",
      "metadata": {
        "id": "gBIXS-Uf74HO"
      },
      "source": [
        "Question 5. What is the determinant of the given matrix in Question 4? Show your solution by python coding."
      ]
    },
    {
      "cell_type": "code",
      "metadata": {
        "colab": {
          "base_uri": "https://localhost:8080/"
        },
        "id": "Oq-H-KsK76Jm",
        "outputId": "ab6ea28f-27ea-426e-d50f-4953eb7f8921"
      },
      "source": [
        "C = np.array ([[1,2,3],\n",
        "               [2,3,3],\n",
        "               [3,4,-2]]) #Given matrix\n",
        "\n",
        "detOfC = np.linalg.det(C) #Compute the determinant of an array\n",
        "\n",
        "print(\"DETERMINANT OF THE GIVEN MATRIX IN QUESTION 4:\")\n",
        "print(int(detOfC)) #displays the final output"
      ],
      "execution_count": 10,
      "outputs": [
        {
          "output_type": "stream",
          "name": "stdout",
          "text": [
            "DETERMINANT OF THE GIVEN MATRIX IN QUESTION 4:\n",
            "5\n"
          ]
        }
      ]
    },
    {
      "cell_type": "markdown",
      "metadata": {
        "id": "JyiZKLpT76ef"
      },
      "source": [
        "Question 6. Find the roots of the linear equations by showing its python codes \n"
      ]
    },
    {
      "cell_type": "code",
      "metadata": {
        "colab": {
          "base_uri": "https://localhost:8080/"
        },
        "id": "qWXILSJc7_6B",
        "outputId": "33fd6b5f-029c-4bf7-feae-eae4f0183350"
      },
      "source": [
        "eq= np.array([[5,4,1],[10,9,4], [10,13,15]]) #Given matrix\n",
        "\n",
        "const = np.array([[[3.4],[8.8],[19.2]]])\n",
        "\n",
        "roots = np.linalg.inv(eq) @ const\n",
        "\n",
        "print(\"ROOTS OF THE GIVEN LINEAR EQUATIONS:\")\n",
        "print(roots) #displays the final output"
      ],
      "execution_count": 9,
      "outputs": [
        {
          "output_type": "stream",
          "name": "stdout",
          "text": [
            "ROOTS OF THE GIVEN LINEAR EQUATIONS:\n",
            "[[[0.2]\n",
            "  [0.4]\n",
            "  [0.8]]]\n"
          ]
        }
      ]
    }
  ]
}