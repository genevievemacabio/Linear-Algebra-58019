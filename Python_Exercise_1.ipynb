{
  "nbformat": 4,
  "nbformat_minor": 0,
  "metadata": {
    "colab": {
      "name": "Python Exercise 1.ipynb",
      "provenance": [],
      "authorship_tag": "ABX9TyOOrz4UvLO8YtJLVQ9YCpZ3",
      "include_colab_link": true
    },
    "kernelspec": {
      "name": "python3",
      "display_name": "Python 3"
    },
    "language_info": {
      "name": "python"
    }
  },
  "cells": [
    {
      "cell_type": "markdown",
      "metadata": {
        "id": "view-in-github",
        "colab_type": "text"
      },
      "source": [
        "<a href=\"https://colab.research.google.com/github/genevievemacabio/Linear-Algebra-58019/blob/main/Python_Exercise_1.ipynb\" target=\"_parent\"><img src=\"https://colab.research.google.com/assets/colab-badge.svg\" alt=\"Open In Colab\"/></a>"
      ]
    },
    {
      "cell_type": "markdown",
      "metadata": {
        "id": "jVfRveGg-yp0"
      },
      "source": [
        "#Matrix and Its Operations"
      ]
    },
    {
      "cell_type": "code",
      "metadata": {
        "colab": {
          "base_uri": "https://localhost:8080/"
        },
        "id": "Oabxpw5e-2Ya",
        "outputId": "e9ae20f2-d672-4291-e5c6-d0cc24ada3c7"
      },
      "source": [
        "import numpy as np\n",
        "A = np.array([[-5,0],[4,1,]]) #This is Matrix A\n",
        "print(A)\n",
        "B = np.array([[6,-3],[2,3]]) #This is Matrix B\n",
        "print(B)"
      ],
      "execution_count": 4,
      "outputs": [
        {
          "output_type": "stream",
          "name": "stdout",
          "text": [
            "[[-5  0]\n",
            " [ 4  1]]\n",
            "[[ 6 -3]\n",
            " [ 2  3]]\n"
          ]
        }
      ]
    },
    {
      "cell_type": "code",
      "metadata": {
        "colab": {
          "base_uri": "https://localhost:8080/"
        },
        "id": "sDl8qbZX_MBh",
        "outputId": "0dec4fbf-dc9a-4567-b228-f1166bec87c1"
      },
      "source": [
        "import numpy as np\n",
        "A = np.array([[-5,0],[4,1,]])\n",
        "B = np.array([[6,-3],[2,3]])\n",
        "print(A+B) #This is the sum of A & B\n"
      ],
      "execution_count": 6,
      "outputs": [
        {
          "output_type": "stream",
          "name": "stdout",
          "text": [
            "[[ 1 -3]\n",
            " [ 6  4]]\n"
          ]
        }
      ]
    },
    {
      "cell_type": "code",
      "metadata": {
        "colab": {
          "base_uri": "https://localhost:8080/"
        },
        "id": "VHu0bVMD_mpK",
        "outputId": "3221cf9d-5ec7-486e-e02d-15cc8fc6882f"
      },
      "source": [
        "import numpy as np\n",
        "A = np.array([[-5,0],[4,1,]])\n",
        "B = np.array([[6,-3],[2,3]])\n",
        "print(B-A) #This is the difference1"
      ],
      "execution_count": 7,
      "outputs": [
        {
          "output_type": "stream",
          "name": "stdout",
          "text": [
            "[[11 -3]\n",
            " [-2  2]]\n"
          ]
        }
      ]
    },
    {
      "cell_type": "code",
      "metadata": {
        "colab": {
          "base_uri": "https://localhost:8080/"
        },
        "id": "qyOFD1vxALSN",
        "outputId": "f96fe67c-5f46-40dd-f12f-a4e3f1d86c3b"
      },
      "source": [
        "import numpy as np\n",
        "A = np.array([[-5,0],[4,1,]])\n",
        "B = np.array([[6,-3],[2,3]])\n",
        "print(A-B) #This is the difference2"
      ],
      "execution_count": 8,
      "outputs": [
        {
          "output_type": "stream",
          "name": "stdout",
          "text": [
            "[[-11   3]\n",
            " [  2  -2]]\n"
          ]
        }
      ]
    }
  ]
}