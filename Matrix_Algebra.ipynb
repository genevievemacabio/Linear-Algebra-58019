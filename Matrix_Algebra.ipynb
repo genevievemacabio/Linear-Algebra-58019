{
  "nbformat": 4,
  "nbformat_minor": 0,
  "metadata": {
    "colab": {
      "name": "Matrix Algebra.ipynb",
      "provenance": [],
      "authorship_tag": "ABX9TyNTLf2UZyDzwgtAQlCs/2QE",
      "include_colab_link": true
    },
    "kernelspec": {
      "name": "python3",
      "display_name": "Python 3"
    },
    "language_info": {
      "name": "python"
    }
  },
  "cells": [
    {
      "cell_type": "markdown",
      "metadata": {
        "id": "view-in-github",
        "colab_type": "text"
      },
      "source": [
        "<a href=\"https://colab.research.google.com/github/genevievemacabio/Linear-Algebra-58019/blob/main/Matrix_Algebra.ipynb\" target=\"_parent\"><img src=\"https://colab.research.google.com/assets/colab-badge.svg\" alt=\"Open In Colab\"/></a>"
      ]
    },
    {
      "cell_type": "markdown",
      "metadata": {
        "id": "Cq9ikV810gN2"
      },
      "source": [
        "***Python Program to Inverse***"
      ]
    },
    {
      "cell_type": "code",
      "metadata": {
        "colab": {
          "base_uri": "https://localhost:8080/"
        },
        "id": "mjIXIhoD0mv6",
        "outputId": "1b043bbf-cbbf-45cf-ca82-4a9f3dda7eb6"
      },
      "source": [
        "import numpy as np\n",
        "A=np.array([[1,2],[4,7]])\n",
        "B=(np.linalg.inv(A))\n",
        "print(B)"
      ],
      "execution_count": 2,
      "outputs": [
        {
          "output_type": "stream",
          "name": "stdout",
          "text": [
            "[[-7.  2.]\n",
            " [ 4. -1.]]\n"
          ]
        }
      ]
    },
    {
      "cell_type": "code",
      "metadata": {
        "colab": {
          "base_uri": "https://localhost:8080/"
        },
        "id": "rt-Kr33H6Cty",
        "outputId": "388601e4-1128-4062-b7cb-6abe36376eeb"
      },
      "source": [
        "import numpy as np\n",
        "A=np.array([[1,2],[4,7]])\n",
        "invA=(np.linalg.inv(A))\n",
        "print(invA)"
      ],
      "execution_count": 4,
      "outputs": [
        {
          "output_type": "stream",
          "name": "stdout",
          "text": [
            "[[-7.  2.]\n",
            " [ 4. -1.]]\n"
          ]
        }
      ]
    },
    {
      "cell_type": "code",
      "metadata": {
        "colab": {
          "base_uri": "https://localhost:8080/"
        },
        "id": "WXR7wqWf6Mc4",
        "outputId": "6e5ebbac-ce72-4825-c6e1-d73fbd37b360"
      },
      "source": [
        "C=np.dot(A,invA)\n",
        "print(C)"
      ],
      "execution_count": 5,
      "outputs": [
        {
          "output_type": "stream",
          "name": "stdout",
          "text": [
            "[[1. 0.]\n",
            " [0. 1.]]\n"
          ]
        }
      ]
    },
    {
      "cell_type": "code",
      "metadata": {
        "colab": {
          "base_uri": "https://localhost:8080/"
        },
        "id": "tzjKM_a16TJd",
        "outputId": "bf8e2c03-8aa0-42f2-9fde-926497c99d88"
      },
      "source": [
        "#Python Program to Inverse (A 3x3 Matrix)\n",
        "A=np.array([[6,1,1],[4,-2,5],[2,8,7]])\n",
        "print(A)"
      ],
      "execution_count": 6,
      "outputs": [
        {
          "output_type": "stream",
          "name": "stdout",
          "text": [
            "[[ 6  1  1]\n",
            " [ 4 -2  5]\n",
            " [ 2  8  7]]\n"
          ]
        }
      ]
    },
    {
      "cell_type": "code",
      "metadata": {
        "colab": {
          "base_uri": "https://localhost:8080/"
        },
        "id": "IGgPyGyq6qRb",
        "outputId": "300da0f7-ea84-415d-d431-415987f11448"
      },
      "source": [
        "#Python Program to Inverse 3x3 Matrix A = ()\n",
        "\n",
        "A=np.array([[6,1,1],[4,-2,5],[2,8,7]])\n",
        "print(A)\n",
        "B=np.transpose(A)\n",
        "print(B)"
      ],
      "execution_count": 7,
      "outputs": [
        {
          "output_type": "stream",
          "name": "stdout",
          "text": [
            "[[ 6  1  1]\n",
            " [ 4 -2  5]\n",
            " [ 2  8  7]]\n",
            "[[ 6  4  2]\n",
            " [ 1 -2  8]\n",
            " [ 1  5  7]]\n"
          ]
        }
      ]
    },
    {
      "cell_type": "code",
      "metadata": {
        "colab": {
          "base_uri": "https://localhost:8080/"
        },
        "id": "3XIJbNLU8mS3",
        "outputId": "56b7a052-ffdf-4a46-f17e-a8cc450babc2"
      },
      "source": [
        "A=np.array([[6,1,1],[4,-2,5],[2,8,7]])\n",
        "print(A)\n",
        "B=(np.linalg.inv(A))\n",
        "print(B)"
      ],
      "execution_count": 11,
      "outputs": [
        {
          "output_type": "stream",
          "name": "stdout",
          "text": [
            "[[ 6  1  1]\n",
            " [ 4 -2  5]\n",
            " [ 2  8  7]]\n",
            "[[ 0.17647059 -0.00326797 -0.02287582]\n",
            " [ 0.05882353 -0.13071895  0.08496732]\n",
            " [-0.11764706  0.1503268   0.05228758]]\n"
          ]
        }
      ]
    },
    {
      "cell_type": "code",
      "metadata": {
        "colab": {
          "base_uri": "https://localhost:8080/"
        },
        "id": "805pbJHs9_FV",
        "outputId": "e2077eb6-260d-4a74-d689-6e0deeace4d7"
      },
      "source": [
        "productAB=np.dot(A,B)\n",
        "print(productAB)"
      ],
      "execution_count": 12,
      "outputs": [
        {
          "output_type": "stream",
          "name": "stdout",
          "text": [
            "[[ 1.00000000e+00  0.00000000e+00  2.77555756e-17]\n",
            " [-1.38777878e-17  1.00000000e+00  1.38777878e-17]\n",
            " [-4.16333634e-17  1.38777878e-16  1.00000000e+00]]\n"
          ]
        }
      ]
    }
  ]
}