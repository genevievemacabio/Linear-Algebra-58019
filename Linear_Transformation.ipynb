{
  "nbformat": 4,
  "nbformat_minor": 0,
  "metadata": {
    "colab": {
      "name": "Linear Transformation.ipynb",
      "provenance": [],
      "include_colab_link": true
    },
    "kernelspec": {
      "name": "python3",
      "display_name": "Python 3"
    },
    "language_info": {
      "name": "python"
    }
  },
  "cells": [
    {
      "cell_type": "markdown",
      "metadata": {
        "id": "view-in-github",
        "colab_type": "text"
      },
      "source": [
        "<a href=\"https://colab.research.google.com/github/genevievemacabio/Linear-Algebra-58019/blob/main/Linear_Transformation.ipynb\" target=\"_parent\"><img src=\"https://colab.research.google.com/assets/colab-badge.svg\" alt=\"Open In Colab\"/></a>"
      ]
    },
    {
      "cell_type": "markdown",
      "metadata": {
        "id": "EKJbNsgVFLGt"
      },
      "source": [
        "To find the inverse of a matrix, the matrix is passed to the linalg.inv() of the NumPy module:"
      ]
    },
    {
      "cell_type": "code",
      "metadata": {
        "colab": {
          "base_uri": "https://localhost:8080/"
        },
        "id": "6tHx2SVeEdEV",
        "outputId": "dce25949-43a5-48c2-afeb-f75d3b57c992"
      },
      "source": [
        "import numpy as np\n",
        "A = np.array([[4,3],[5,9]]) #creation of matrix A\n",
        "print(A)\n",
        "inv_A = np.linalg.inv(A)\n",
        "print(inv_A)"
      ],
      "execution_count": null,
      "outputs": [
        {
          "output_type": "stream",
          "name": "stdout",
          "text": [
            "[[4 3]\n",
            " [5 9]]\n",
            "[[ 0.42857143 -0.14285714]\n",
            " [-0.23809524  0.19047619]]\n"
          ]
        }
      ]
    },
    {
      "cell_type": "code",
      "metadata": {
        "colab": {
          "base_uri": "https://localhost:8080/"
        },
        "id": "ab75r2xpG2PC",
        "outputId": "102c5695-0a04-4eaa-bbd6-f8d319dc0047"
      },
      "source": [
        "B = np.array([[20],[26]])\n",
        "print(B) "
      ],
      "execution_count": null,
      "outputs": [
        {
          "output_type": "stream",
          "name": "stdout",
          "text": [
            "[[20]\n",
            " [26]]\n"
          ]
        }
      ]
    },
    {
      "cell_type": "code",
      "metadata": {
        "colab": {
          "base_uri": "https://localhost:8080/"
        },
        "id": "-tPxGCpwHMtq",
        "outputId": "7109922b-ffc4-447d-81ff-224af29130ee"
      },
      "source": [
        "X=np.linalg.inv(A).dot(B)\n",
        "print(X)"
      ],
      "execution_count": null,
      "outputs": [
        {
          "output_type": "stream",
          "name": "stdout",
          "text": [
            "[[4.85714286]\n",
            " [0.19047619]]\n"
          ]
        }
      ]
    },
    {
      "cell_type": "code",
      "metadata": {
        "colab": {
          "base_uri": "https://localhost:8080/"
        },
        "id": "Ml6Q9SwMHXxT",
        "outputId": "90a61bff-bb4a-4897-b2e6-72e93fce3e03"
      },
      "source": [
        "X=np.dot(inv_A,B)\n",
        "print(X)"
      ],
      "execution_count": null,
      "outputs": [
        {
          "output_type": "stream",
          "name": "stdout",
          "text": [
            "[[4.85714286]\n",
            " [0.19047619]]\n"
          ]
        }
      ]
    },
    {
      "cell_type": "markdown",
      "metadata": {
        "id": "v38iWQ21OLoo"
      },
      "source": [
        "Application\n"
      ]
    },
    {
      "cell_type": "code",
      "metadata": {
        "colab": {
          "base_uri": "https://localhost:8080/"
        },
        "id": "XCpSmQP6ONyG",
        "outputId": "68849f2a-bb3a-4f48-adf2-955c80993389"
      },
      "source": [
        "A = np.array([[20,10],[17,22]])\n",
        "print(A)\n",
        "Inv_A = np.linalg.inv(A)\n",
        "print(Inv_A)"
      ],
      "execution_count": null,
      "outputs": [
        {
          "output_type": "stream",
          "name": "stdout",
          "text": [
            "[[20 10]\n",
            " [17 22]]\n",
            "[[ 0.08148148 -0.03703704]\n",
            " [-0.06296296  0.07407407]]\n"
          ]
        }
      ]
    },
    {
      "cell_type": "code",
      "metadata": {
        "colab": {
          "base_uri": "https://localhost:8080/"
        },
        "id": "ibTEsU0EOaTt",
        "outputId": "8f461812-1940-4039-f1f3-2a38f8aadd40"
      },
      "source": [
        "B=np.array([[350],[500]])\n",
        "print(B)\n"
      ],
      "execution_count": null,
      "outputs": [
        {
          "output_type": "stream",
          "name": "stdout",
          "text": [
            "[[350]\n",
            " [500]]\n"
          ]
        }
      ]
    },
    {
      "cell_type": "code",
      "metadata": {
        "colab": {
          "base_uri": "https://localhost:8080/"
        },
        "id": "nMGOXbWuOg6S",
        "outputId": "badbb572-c4f5-4109-aa64-4cfd0a158088"
      },
      "source": [
        "X=np.dot(Inv_A,B)\n",
        "print(X)"
      ],
      "execution_count": null,
      "outputs": [
        {
          "output_type": "stream",
          "name": "stdout",
          "text": [
            "[[10.]\n",
            " [15.]]\n"
          ]
        }
      ]
    },
    {
      "cell_type": "markdown",
      "metadata": {
        "id": "j1yc81DBOvlg"
      },
      "source": [
        "To check if the answer is correct:"
      ]
    },
    {
      "cell_type": "code",
      "metadata": {
        "colab": {
          "base_uri": "https://localhost:8080/"
        },
        "id": "mAfd_se8OyZc",
        "outputId": "2f2fb6e4-b0cf-4c00-a2ba-1cf7d837b954"
      },
      "source": [
        "B = np.dot(A,X)\n",
        "print(B)"
      ],
      "execution_count": null,
      "outputs": [
        {
          "output_type": "stream",
          "name": "stdout",
          "text": [
            "[[350.]\n",
            " [500.]]\n"
          ]
        }
      ]
    },
    {
      "cell_type": "markdown",
      "metadata": {
        "id": "RP7YU8plJelJ"
      },
      "source": [
        "Let's now solve a system of three linear equation"
      ]
    },
    {
      "cell_type": "code",
      "metadata": {
        "colab": {
          "base_uri": "https://localhost:8080/"
        },
        "id": "mR4xDNezJfn2",
        "outputId": "7cdaa856-15c7-4cdf-f817-c857f6876e35"
      },
      "source": [
        "import numpy as np\n",
        "A=np.array([[[4,3,2],[-2,2,3],[3,-5,2]]]) #creation of matrix A\n",
        "print(A)\n",
        "inv_A=np.linalg.inv(A)\n",
        "print(inv_A)"
      ],
      "execution_count": null,
      "outputs": [
        {
          "output_type": "stream",
          "name": "stdout",
          "text": [
            "[[[ 4  3  2]\n",
            "  [-2  2  3]\n",
            "  [ 3 -5  2]]]\n",
            "[[[ 0.15447154 -0.1300813   0.04065041]\n",
            "  [ 0.10569106  0.01626016 -0.1300813 ]\n",
            "  [ 0.03252033  0.23577236  0.11382114]]]\n"
          ]
        }
      ]
    },
    {
      "cell_type": "code",
      "metadata": {
        "colab": {
          "base_uri": "https://localhost:8080/"
        },
        "id": "QQyx-YUHKJz7",
        "outputId": "fd5c7203-1d98-40da-ee17-c35e9984ec5d"
      },
      "source": [
        "B=np.array([[[25],[-10],[-4]]])\n",
        "print(B)"
      ],
      "execution_count": null,
      "outputs": [
        {
          "output_type": "stream",
          "name": "stdout",
          "text": [
            "[[[ 25]\n",
            "  [-10]\n",
            "  [ -4]]]\n"
          ]
        }
      ]
    },
    {
      "cell_type": "code",
      "metadata": {
        "colab": {
          "base_uri": "https://localhost:8080/"
        },
        "id": "joZ4hUBTKTLa",
        "outputId": "d66ed76c-ea78-4bb2-e439-94b1994fee11"
      },
      "source": [
        "X=np.linalg.inv(A).dot(B)\n",
        "print(X)"
      ],
      "execution_count": null,
      "outputs": [
        {
          "output_type": "stream",
          "name": "stdout",
          "text": [
            "[[[[ 5.]]\n",
            "\n",
            "  [[ 3.]]\n",
            "\n",
            "  [[-2.]]]]\n"
          ]
        }
      ]
    },
    {
      "cell_type": "code",
      "metadata": {
        "colab": {
          "base_uri": "https://localhost:8080/"
        },
        "id": "Idex7Cp_KcZ7",
        "outputId": "5436b8f8-3dca-46c8-cb78-d0770eff0060"
      },
      "source": [
        "X=np.dot(inv_A,B)\n",
        "print(X)"
      ],
      "execution_count": null,
      "outputs": [
        {
          "output_type": "stream",
          "name": "stdout",
          "text": [
            "[[[[ 5.]]\n",
            "\n",
            "  [[ 3.]]\n",
            "\n",
            "  [[-2.]]]]\n"
          ]
        }
      ]
    }
  ]
}